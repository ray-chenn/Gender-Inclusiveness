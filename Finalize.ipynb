{
 "cells": [
  {
   "cell_type": "code",
   "execution_count": 14,
   "id": "70880371-7098-45f5-b5fc-6604c1648763",
   "metadata": {},
   "outputs": [],
   "source": [
    "import openai"
   ]
  },
  {
   "cell_type": "code",
   "execution_count": 15,
   "id": "22f47cd4-4513-44f8-a122-a9da965dc8c3",
   "metadata": {},
   "outputs": [
    {
     "name": "stdout",
     "output_type": "stream",
     "text": [
      "Chatbot:  Neither\n",
      "Chatbot:  Neither.\n",
      "Chatbot:  Neither.\n"
     ]
    }
   ],
   "source": [
    "#insert API key in this line\n",
    "women = open(\"feminine.txt\", \"a\")\n",
    "men = open(\"masculine.txt\", \"a\")\n",
    "\n",
    "def chat_with_gpt(prompt):\n",
    "    response = openai.ChatCompletion.create(\n",
    "        model = \"gpt-4-turbo\",\n",
    "        messages = [{\"role\": \"user\", \"content\": prompt}]\n",
    "    )\n",
    "        \n",
    "    return response.choices[0].message.content.strip()\n",
    "\n",
    "if __name__ == \"__main__\":\n",
    "    with open('verify.txt','r') as file:\n",
    "        for line in file:       \n",
    "            for word in line.split():\n",
    "                response = chat_with_gpt(\"Does the word \" + word + \" associate more with men or women? Give a one word answer.\")\n",
    "                print(\"Chatbot: \", response)\n",
    "                if response[0].lower() == 'w':\n",
    "                    women.write(\"\\n\" + word)\n",
    "                elif response[0].lower() == 'm':\n",
    "                    men.write(\"\\n\" + word)"
   ]
  },
  {
   "cell_type": "code",
   "execution_count": 16,
   "id": "4d4cb496-dc8b-4796-9e6a-5d6aee50b9c6",
   "metadata": {},
   "outputs": [
    {
     "name": "stdout",
     "output_type": "stream",
     "text": [
      "There does not exist gender-inclusiveness issues.\n"
     ]
    }
   ],
   "source": [
    "import math\n",
    "\n",
    "wordCount = 0\n",
    "minimum = 0\n",
    "men = 0\n",
    "women = 0\n",
    "\n",
    "with open(\"training_text.txt\", \"r\") as text:\n",
    "    stopWords = open('stopwords.txt', 'r')\n",
    "    for line in text:\n",
    "        for word in line.split():\n",
    "            if word not in stopWords:\n",
    "                wordCount = wordCount + 1;\n",
    "\n",
    "minimum = math.ceil(wordCount * 0.2)\n",
    "\n",
    "with open('masculine.txt', 'r') as masculine:\n",
    "    men = len(masculine.readline())\n",
    "\n",
    "with open('feminine.txt', 'r') as feminine:\n",
    "    women = len(feminine.readline())\n",
    "\n",
    "if men >= women:\n",
    "    if men >= minimum and (men + women) * 0.8 < men:\n",
    "        print(\"There exists gender-inclusiveness issues. It is too centred around men.\")\n",
    "    else:\n",
    "        print(\"There does not exist gender-inclusiveness issues.\")\n",
    "else:\n",
    "    if women >= minimum and (women + men) * 0.8 < women:\n",
    "        print(\"There exists gender-inclusiveness issues. It is too centred around women.\")\n",
    "    else:\n",
    "        print(\"There does not exist gender-inclusiveness issues.\")"
   ]
  },
  {
   "cell_type": "code",
   "execution_count": null,
   "id": "be5e262d-e7fc-417c-b964-18c26cc6f19d",
   "metadata": {},
   "outputs": [],
   "source": []
  }
 ],
 "metadata": {
  "kernelspec": {
   "display_name": "Python 3 (ipykernel)",
   "language": "python",
   "name": "python3"
  },
  "language_info": {
   "codemirror_mode": {
    "name": "ipython",
    "version": 3
   },
   "file_extension": ".py",
   "mimetype": "text/x-python",
   "name": "python",
   "nbconvert_exporter": "python",
   "pygments_lexer": "ipython3",
   "version": "3.12.4"
  }
 },
 "nbformat": 4,
 "nbformat_minor": 5
}
