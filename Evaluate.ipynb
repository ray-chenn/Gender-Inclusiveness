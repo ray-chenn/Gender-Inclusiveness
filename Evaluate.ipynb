{
 "cells": [
  {
   "cell_type": "code",
   "execution_count": 13,
   "id": "d4139935-dae7-4096-9801-48595a360cd8",
   "metadata": {},
   "outputs": [],
   "source": [
    "import openai"
   ]
  },
  {
   "cell_type": "code",
   "execution_count": 14,
   "id": "ea8b67b4-2f96-460a-abbd-2b6c5e9cf32a",
   "metadata": {},
   "outputs": [],
   "source": [
    "with open('masculine.txt', 'w') as file: \n",
    "    pass \n",
    "with open('feminine.txt', 'w') as file: \n",
    "    pass \n",
    "with open(\"neutral.txt\", \"w\") as file:\n",
    "    pass\n",
    "with open('evaluate.txt', 'w') as file: \n",
    "    pass \n",
    "with open('verify.txt', 'w') as file:\n",
    "    pass\n",
    "\n",
    "text = open(\"training_text.txt\", \"r\")\n",
    "stopwords = open(\"stopwords.txt\", \"r\")\n",
    "evaluate = open(\"evaluate.txt\", \"w\")\n",
    "men = open(\"malePairs.txt\", \"r\")\n",
    "women = open(\"femalePairs.txt\", \"r\")\n",
    "ignore = []\n",
    "d = dict()\n",
    "wordcount = 0\n",
    "common = []\n",
    "first = True\n",
    "\n",
    "for line in stopwords:\n",
    "    for word in line.split():\n",
    "        ignore.append(word)\n",
    "for line in men:\n",
    "    for word in line.split():\n",
    "        ignore.append(word)\n",
    "for line in women:\n",
    "    for word in line.split():\n",
    "        ignore.append(word)\n",
    "for line in text: \n",
    "    line = line.strip() \n",
    "    line = line.lower() \n",
    "    words = line.split(\" \") \n",
    "    for word in words: \n",
    "        if word in d: \n",
    "            d[word] = d[word] + 1\n",
    "            wordcount += 1\n",
    "        elif word not in ignore: \n",
    "            d[word] = 1\n",
    "            wordcount += 1\n",
    "\n",
    "for key in list(d.keys()):\n",
    "    if wordcount * 0.05 <= d[key] and 1 < d[key]:\n",
    "        if key[len(key) - 1] == \".\" or key[len(key) - 1] == \",\" or key[len(key) - 1] == \"!\" or key[len(key) - 1] == \";\" or key[len(key) - 1] == \"?\":\n",
    "            key = key[:-1]\n",
    "        common.append(key)\n",
    "\n",
    "evaluate = open(\"evaluate.txt\", \"a\")\n",
    "\n",
    "for word in common:\n",
    "    if first:\n",
    "        evaluate.write(word)\n",
    "        first = False\n",
    "    else:\n",
    "        evaluate.write(\"\\n\" + word)"
   ]
  },
  {
   "cell_type": "code",
   "execution_count": 15,
   "id": "2ad16c56-f21e-4f0d-b813-da6bb4ecb6a5",
   "metadata": {},
   "outputs": [
    {
     "name": "stdout",
     "output_type": "stream",
     "text": [
      "Male\n"
     ]
    }
   ],
   "source": [
    "#insert API key in this line\n",
    "evaluate = open(\"evaluate.txt\", \"r\")\n",
    "women = open(\"feminine.txt\", \"a\")\n",
    "men = open(\"masculine.txt\", \"a\")\n",
    "neutral = open(\"neutral.txt\", \"a\")\n",
    "wFirst = True\n",
    "mFirst = True\n",
    "nFirst = True\n",
    "\n",
    "def chat_with_gpt(prompt):\n",
    "    response = openai.ChatCompletion.create(\n",
    "        model = \"gpt-4-turbo\",\n",
    "        messages = [{\"role\": \"user\", \"content\": prompt}]\n",
    "    )\n",
    "        \n",
    "    return response.choices[0].message.content.strip()\n",
    "\n",
    "if __name__ == \"__main__\":\n",
    "    with open('evaluate.txt','r') as file:\n",
    "        for line in file:       \n",
    "            for word in line.split():\n",
    "                response = chat_with_gpt(\"Does the word \" + word + \" associate more with male or female? Give a one word answer.\")\n",
    "                print(response)\n",
    "                if response.lower() == 'female':\n",
    "                    if wFirst:\n",
    "                        women.write(word)\n",
    "                        wFirst = False\n",
    "                    else:       \n",
    "                        women.write(\"\\n\" + word)\n",
    "                elif response.lower() == 'male':\n",
    "                    if mFirst:\n",
    "                        men.write(word)\n",
    "                        mFirst = False\n",
    "                    else:\n",
    "                        men.write(\"\\n\" + word)\n",
    "                else:\n",
    "                    if nFirst:\n",
    "                        neutral.write(word)\n",
    "                        nFirst = False\n",
    "                    else:\n",
    "                        neutral.write(\"\\n\" + word)"
   ]
  },
  {
   "cell_type": "code",
   "execution_count": null,
   "id": "65f5175f-b1be-4738-8674-fbca5b91046a",
   "metadata": {},
   "outputs": [],
   "source": []
  },
  {
   "cell_type": "code",
   "execution_count": null,
   "id": "dfaaf078-89bb-4f79-82eb-c054d77f87cc",
   "metadata": {},
   "outputs": [],
   "source": []
  }
 ],
 "metadata": {
  "kernelspec": {
   "display_name": "Python 3 (ipykernel)",
   "language": "python",
   "name": "python3"
  },
  "language_info": {
   "codemirror_mode": {
    "name": "ipython",
    "version": 3
   },
   "file_extension": ".py",
   "mimetype": "text/x-python",
   "name": "python",
   "nbconvert_exporter": "python",
   "pygments_lexer": "ipython3",
   "version": "3.12.4"
  }
 },
 "nbformat": 4,
 "nbformat_minor": 5
}
